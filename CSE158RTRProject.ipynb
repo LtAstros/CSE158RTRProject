{
 "cells": [
  {
   "cell_type": "code",
   "execution_count": 20,
   "id": "d7638e02",
   "metadata": {},
   "outputs": [],
   "source": [
    "import os\n",
    "\n",
    "import gzip\n",
    "import numpy as np\n",
    "import pandas as pd\n",
    "\n",
    "import json"
   ]
  },
  {
   "cell_type": "code",
   "execution_count": 30,
   "id": "0b45d882",
   "metadata": {},
   "outputs": [],
   "source": [
    "def readGz(path):\n",
    "    for l in gzip.open(path, 'rt'):\n",
    "        yield json.loads(l)"
   ]
  },
  {
   "cell_type": "code",
   "execution_count": 31,
   "id": "ea1c335a",
   "metadata": {},
   "outputs": [],
   "source": [
    "def readCSV(path):\n",
    "    f = gzip.open(path, 'rt')\n",
    "    f.readline()\n",
    "    for l in f:\n",
    "        u,b,r = l.strip().split(',')\n",
    "        r = int(r)\n",
    "        yield u,b,r"
   ]
  },
  {
   "cell_type": "code",
   "execution_count": 38,
   "id": "89ef3c11",
   "metadata": {},
   "outputs": [],
   "source": [
    "rent_runway = pd.DataFrame(list(readGz(\"./renttherunway_final_data.json.gz\")))"
   ]
  },
  {
   "cell_type": "code",
   "execution_count": 54,
   "id": "5b9a9302",
   "metadata": {},
   "outputs": [],
   "source": [
    "# Data Cleaning Cell\n",
    "rent_runway[\"bust size\"] = rent_runway[\"bust size\"].str[2:]\n",
    "rent_runway[\"weight\"] = rent_runway[\"weight\"].str[:-3].astype(float)\n",
    "rent_runway[\"height\"] = (rent_runway[\"height\"].str[0].astype(float) * 12) + rent_runway[\"height\"].str[2:-1].astype(float)\n",
    "rent_runway[\"age\"] = rent_runway[\"age\"].astype(float)\n",
    "rent_runway[\"rating\"] = rent_runway[\"rating\"].astype(float)\n",
    "rent_runway[\"review_date\"] = pd.to_datetime(rent_runway[\"review_date\"])\n",
    "rent_runway[\"year\"] = rent_runway[\"review_date\"].dt.year\n",
    "rent_runway[\"month\"] = rent_runway[\"review_date\"].dt.month\n",
    "rent_runway.loc[filtered_runway[\"rented for\"] == \"party: cocktail\", \"rented for\"] = \"other\"\n",
    "rent_runway = rent_runway.drop(columns=\"review_date\")\n",
    "filtered_runway = rent_runway.dropna()"
   ]
  },
  {
   "cell_type": "code",
   "execution_count": 136,
   "id": "35d54a5e",
   "metadata": {},
   "outputs": [],
   "source": []
  },
  {
   "cell_type": "code",
   "execution_count": null,
   "id": "414c9838",
   "metadata": {},
   "outputs": [],
   "source": []
  }
 ],
 "metadata": {
  "kernelspec": {
   "display_name": "Python 3 (ipykernel)",
   "language": "python",
   "name": "python3"
  },
  "language_info": {
   "codemirror_mode": {
    "name": "ipython",
    "version": 3
   },
   "file_extension": ".py",
   "mimetype": "text/x-python",
   "name": "python",
   "nbconvert_exporter": "python",
   "pygments_lexer": "ipython3",
   "version": "3.9.13"
  }
 },
 "nbformat": 4,
 "nbformat_minor": 5
}
