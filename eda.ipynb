{
 "cells": [
  {
   "cell_type": "code",
   "execution_count": null,
   "id": "2e039c12",
   "metadata": {},
   "outputs": [],
   "source": [
    "import os\n",
    "import pandas as pd\n",
    "import matplotlib.pyplot as plt\n",
    "import numpy as np\n",
    "from scipy.stats import chi2_contingency\n",
    "from scipy.stats import ttest_ind"
   ]
  },
  {
   "cell_type": "code",
   "execution_count": null,
   "id": "028ed483",
   "metadata": {},
   "outputs": [],
   "source": [
    "fp = os.path.join(os.path.dirname(os.path.realpath('eda.ipynb')) + '/cleaned_runway.csv')"
   ]
  },
  {
   "cell_type": "code",
   "execution_count": null,
   "id": "462d1106",
   "metadata": {},
   "outputs": [],
   "source": [
    "runway = pd.read_csv(fp)\n",
    "runway.head()"
   ]
  },
  {
   "cell_type": "code",
   "execution_count": null,
   "id": "b5747167",
   "metadata": {},
   "outputs": [],
   "source": [
    "runway.dtypes"
   ]
  },
  {
   "cell_type": "code",
   "execution_count": null,
   "id": "3c300645",
   "metadata": {},
   "outputs": [],
   "source": [
    "runway.shape"
   ]
  },
  {
   "cell_type": "code",
   "execution_count": null,
   "id": "a030ab31",
   "metadata": {},
   "outputs": [],
   "source": [
    "runway.isna().sum()"
   ]
  },
  {
   "cell_type": "code",
   "execution_count": null,
   "id": "59e488d7",
   "metadata": {},
   "outputs": [],
   "source": [
    "# NLP techniques can be used on review_summary and review_text!"
   ]
  },
  {
   "cell_type": "code",
   "execution_count": null,
   "id": "19c813d9",
   "metadata": {},
   "outputs": [],
   "source": [
    "runway.describe()"
   ]
  },
  {
   "cell_type": "code",
   "execution_count": null,
   "id": "c70c732f",
   "metadata": {},
   "outputs": [],
   "source": [
    "# Investigate what might be worth setting as label outcome\n",
    "print(runway['category'].nunique())\n",
    "runway['category'].value_counts()\n",
    "# with many categories, this attribute may be useful in something like word2vec for decided label outcome"
   ]
  },
  {
   "cell_type": "code",
   "execution_count": null,
   "id": "e945084d",
   "metadata": {},
   "outputs": [],
   "source": [
    "# 68 unique categories difficult to predict, explore other categorical attributes\n",
    "runway['rented for'].value_counts()\n",
    "# only 8 categories! For simplicity, we'll attempt to build a model to predict \"rented for\"!"
   ]
  },
  {
   "cell_type": "code",
   "execution_count": null,
   "id": "74a2626f",
   "metadata": {},
   "outputs": [],
   "source": [
    "runway['rented for'].value_counts(normalize = True).plot(kind = 'bar', title = \"Rented For Proportions\")"
   ]
  },
  {
   "cell_type": "code",
   "execution_count": null,
   "id": "2fbf393d",
   "metadata": {},
   "outputs": [],
   "source": [
    "# are there general differences in ages between rentals for different event types?\n",
    "runway.boxplot(column = 'age', by = 'rented for')\n",
    "# very slight differences in ages of buyers, likely not worth keeping in model dev"
   ]
  },
  {
   "cell_type": "code",
   "execution_count": null,
   "id": "8da73076",
   "metadata": {},
   "outputs": [],
   "source": [
    "# run pearson chi-square test on ages between rented for categories\n",
    "expected = runway['age'].mean()\n",
    "age_means = runway.groupby('rented for')['age'].mean().values\n",
    "data = [[expected] * len(age_means), list(age_means)]\n",
    "stat, p, dof, expected = chi2_contingency(data)\n",
    "p\n",
    "# chi square test confirms"
   ]
  },
  {
   "cell_type": "code",
   "execution_count": null,
   "id": "810d82e8",
   "metadata": {},
   "outputs": [],
   "source": [
    "# it might make more sense to test each event type against all others using hypothesis testing\n",
    "def hypothesis_test(att, event_type, alpha_level):\n",
    "    filtered = runway[runway['rented for'] == event_type][att]\n",
    "    others = runway[runway['rented for'] != event_type][att]\n",
    "    p_val = ttest_ind(filtered, others, equal_var = False).pvalue\n",
    "    print(event_type + \" vs. all other event types for \" + att)\n",
    "    print(\"-------------------------------------\")\n",
    "    print(\"p-value: \" + str(p_val))\n",
    "    if p_val < alpha_level:\n",
    "        print(\"reject the null hypothesis; likely different distributions\\n\")\n",
    "    else:\n",
    "        print(\"do not reject null hypothesis; likely same distributions\\n\")"
   ]
  },
  {
   "cell_type": "code",
   "execution_count": null,
   "id": "91ee3320",
   "metadata": {},
   "outputs": [],
   "source": [
    "rented_for = runway['rented for'].unique()"
   ]
  },
  {
   "cell_type": "code",
   "execution_count": null,
   "id": "1a68cb2a",
   "metadata": {},
   "outputs": [],
   "source": [
    "for event in rented_for:\n",
    "    hypothesis_test('age', event, 0.01)\n",
    "# significance seen in almost all event types"
   ]
  },
  {
   "cell_type": "code",
   "execution_count": null,
   "id": "1b2b0c5c",
   "metadata": {},
   "outputs": [],
   "source": [
    "# do people who buy for certain events tend to wear larger/smaller sizes?\n",
    "runway.boxplot(column = 'size', by = 'rented for')\n",
    "# There are large enough visual differences to motivate including size in model"
   ]
  },
  {
   "cell_type": "code",
   "execution_count": null,
   "id": "8d6c302d",
   "metadata": {},
   "outputs": [],
   "source": [
    "for event in rented_for:\n",
    "    hypothesis_test('size', event, 0.01)"
   ]
  },
  {
   "cell_type": "code",
   "execution_count": null,
   "id": "b98c0d4f",
   "metadata": {},
   "outputs": [],
   "source": [
    "runway.boxplot(column = 'height', by = 'rented for')\n",
    "# heights look very similar"
   ]
  },
  {
   "cell_type": "code",
   "execution_count": null,
   "id": "6fb6dadb",
   "metadata": {},
   "outputs": [],
   "source": [
    "for event in rented_for:\n",
    "    hypothesis_test('height', event, 0.01)"
   ]
  },
  {
   "cell_type": "code",
   "execution_count": null,
   "id": "9d972a4a",
   "metadata": {},
   "outputs": [],
   "source": [
    "runway.boxplot(column = 'weight', by = 'rented for')\n",
    "# weight also look very similar"
   ]
  },
  {
   "cell_type": "code",
   "execution_count": null,
   "id": "1762945c",
   "metadata": {},
   "outputs": [],
   "source": [
    "for event in rented_for:\n",
    "    hypothesis_test('weight', event, 0.01)"
   ]
  },
  {
   "cell_type": "code",
   "execution_count": null,
   "id": "ede54f15",
   "metadata": {},
   "outputs": [],
   "source": [
    "# construct plots for each event type of buyers' weights vs. heights\n",
    "fig, axs = plt.subplots(nrows=2, ncols=4, figsize=(15, 12))\n",
    "for event, ax in zip(rented_for, axs.ravel()):\n",
    "    filtered = runway[runway['rented for'] == event]\n",
    "    ax.scatter(filtered.weight, filtered.height)\n",
    "    ax.title.set_text(event + \" rental weights vs. heights\")\n",
    "    ax.set_yticks([i for i in range(55, 80, 5)])\n",
    "    ax.set_xticks([i for i in range(50, 350, 50)])\n",
    "    ax.set_xlabel('weight')\n",
    "    ax.set_ylabel('height')\n",
    "# many distributions appear to have larger spreads, even if they are outliers"
   ]
  },
  {
   "cell_type": "code",
   "execution_count": null,
   "id": "57499815",
   "metadata": {
    "scrolled": true
   },
   "outputs": [],
   "source": [
    "# how much of each type of clothing is purchased for each event type?\n",
    "clothing_event = runway.groupby(['rented for', 'category'])['fit'].count().unstack().fillna(0)\n",
    "clothing_event"
   ]
  },
  {
   "cell_type": "code",
   "execution_count": null,
   "id": "de242d2e",
   "metadata": {},
   "outputs": [],
   "source": [
    "# calculate proportions of clothing types for each event type\n",
    "clothing_props = clothing_event / clothing_event.sum()\n",
    "clothing_props"
   ]
  },
  {
   "cell_type": "code",
   "execution_count": null,
   "id": "d206e4c9",
   "metadata": {},
   "outputs": [],
   "source": [
    "# which clothing types don't have any proportion above the threshold for any event type?\n",
    "threshold = 0.3\n",
    "((clothing_props < threshold).apply(all))[((clothing_props < threshold).apply(all)) == True]"
   ]
  },
  {
   "cell_type": "code",
   "execution_count": null,
   "id": "94d3cad4",
   "metadata": {},
   "outputs": [],
   "source": [
    "# if the proportions of these clothings are too uniform, \n",
    "# it might be worth converting them to an \"other\" clothing type\n",
    "clothing_props['shift']\n",
    "# consists mainly of 2 event types"
   ]
  },
  {
   "cell_type": "code",
   "execution_count": null,
   "id": "e97dd4b1",
   "metadata": {},
   "outputs": [],
   "source": [
    "clothing_props['skirts']\n",
    "# consists of 4 event types split evenly, this is not so bad"
   ]
  },
  {
   "cell_type": "code",
   "execution_count": null,
   "id": "eb675a01",
   "metadata": {},
   "outputs": [],
   "source": [
    "# how has renting for each event increased/decreased over the years?\n",
    "vals = [runway.groupby(['rented for', 'year'])['fit'].count()[clothing].values for clothing in rented_for]\n",
    "# fill 0 for counts of years with 0 of two \"rented for\" categories\n",
    "vals[5] = ([0] * 4) + list(vals[5])\n",
    "vals[7] = ([0] * 4) + list(vals[7])\n",
    "yrs = [yr for yr in range(2011, 2019)]\n",
    "for i, clothing in enumerate(rented_for):\n",
    "    plt.plot(yrs, vals[i], label = clothing)\n",
    "plt.title(\"Counts per Year for Event Types\")\n",
    "plt.legend()\n",
    "plt.show()\n",
    "# sales for certain events jump and dip certain years (more/less bought)\n",
    "# this could be useful as a feature in model dev"
   ]
  },
  {
   "cell_type": "code",
   "execution_count": null,
   "id": "5c90e7ca",
   "metadata": {},
   "outputs": [],
   "source": [
    "fig, axs = plt.subplots(nrows=2, ncols=4, figsize=(15, 12))\n",
    "month_counts = runway.groupby(['rented for', 'month']).count().reset_index()\n",
    "for event, ax in zip(rented_for, axs.ravel()):\n",
    "    df = month_counts[month_counts['rented for'] == event].set_index('month')['fit']\n",
    "    ax.bar(df.index, df.values)\n",
    "    ax.title.set_text(event + \" rental month counts\")\n",
    "    ax.set_xticks([i for i in range(1, 13)])\n",
    "    ax.set_xlabel(\"month number\")\n",
    "# it appears that clothing for certain event types is more commonly bought during certain months\n",
    "# therefore, month is a useful attribute"
   ]
  },
  {
   "cell_type": "code",
   "execution_count": null,
   "id": "84e1e16b",
   "metadata": {},
   "outputs": [],
   "source": [
    "# In order to test if distributions are significantly different, we'll use \n",
    "# a modified form of permutation testing\n",
    "def permutation_test(n_trials, att, event_type, alpha_level):\n",
    "    '''\n",
    "    tests proportional distribution of an attribute for one event type against the\n",
    "    proportional distribution of that attribute for all other event types combined\n",
    "    to test if distributions are significantly different\n",
    "    \n",
    "    n_trials: number of permutation iterations\n",
    "    att: attribute to test distributions between event types\n",
    "    event_type: event type to test against all others\n",
    "    '''\n",
    "    # filter for only specified event type\n",
    "    filtered = runway[runway['rented for'] == event_type].groupby(att).count()['category']\n",
    "    filtered_props = filtered / filtered.sum()\n",
    "    # filter for everything but specified event type\n",
    "    not_event = runway[runway['rented for'] != event_type].groupby(att).count()['category']\n",
    "    not_event_props = not_event / not_event.sum()\n",
    "    fig, axs = plt.subplots(nrows=1, ncols=2, figsize=(6, 3))\n",
    "    for i, ax in enumerate(axs.ravel()):\n",
    "        if i == 0:\n",
    "            ax.bar(filtered_props.index, filtered_props.values)\n",
    "            ax.title.set_text(event)\n",
    "        if i == 1:\n",
    "            ax.bar(not_event_props.index, not_event_props.values)\n",
    "            ax.title.set_text(\"other events\")\n",
    "    plt.show()\n",
    "    # calculate observered sum of absolute differences\n",
    "    obs_error = sum(abs(filtered_props - not_event_props))\n",
    "    trials = [0] * n_trials\n",
    "    for i in range(n_trials):\n",
    "        permuted_col = runway[att].sample(frac = 1, replace = False).values\n",
    "        permuted = runway.assign(p = permuted_col)\n",
    "        filtered = permuted[permuted['rented for'] == event_type].groupby('p').count()['category']\n",
    "        filtered_props = filtered / filtered.sum()\n",
    "        not_event = permuted[permuted['rented for'] != event_type].groupby('p').count()['category']\n",
    "        not_event_props = not_event / not_event.sum()\n",
    "        trials[i] = sum(abs(filtered_props - not_event_props))\n",
    "    print(event_type + \" vs. all other event types for \" + att)\n",
    "    print(\"-------------------------------------\")\n",
    "    p_val = np.count_nonzero(np.array(trials) >= obs_error) / n_trials\n",
    "    print(\"p-value: \" + str(p_val))\n",
    "    if p_val < alpha_level:\n",
    "        print(\"reject the null hypothesis; likely different distributions\")\n",
    "    else:\n",
    "        print(\"do not reject null hypothesis; likely same distributions\")\n",
    "    "
   ]
  },
  {
   "cell_type": "code",
   "execution_count": null,
   "id": "0852eb55",
   "metadata": {},
   "outputs": [],
   "source": [
    "for event in rented_for:\n",
    "    permutation_test(200, 'month', event, 0.01)"
   ]
  },
  {
   "cell_type": "code",
   "execution_count": null,
   "id": "9745b82a",
   "metadata": {},
   "outputs": [],
   "source": [
    "# Even though theoretically rating should not influence which event type was rented for, it's possible that this\n",
    "# clothing renter has worse quality with certain clothing types, for example\n",
    "fig, axs = plt.subplots(nrows=2, ncols=4, figsize=(15, 12))\n",
    "for event, ax in zip(rented_for, axs.ravel()):\n",
    "    df = runway[runway['rented for'] == event]['rating']\n",
    "    ax.hist(df.values)\n",
    "    ax.title.set_text(event + \" rental ratings\")\n",
    "    ax.set_xticks([i for i in range(0, 11)])\n",
    "    ax.set_xlabel(\"rating\")\n",
    "# all event types appear to have very similar distributions of ratings; rating is likely not important"
   ]
  },
  {
   "cell_type": "code",
   "execution_count": null,
   "id": "9d980f95",
   "metadata": {},
   "outputs": [],
   "source": [
    "for event in rented_for:\n",
    "    permutation_test(200, 'rating', event, 0.01)"
   ]
  },
  {
   "cell_type": "code",
   "execution_count": null,
   "id": "913b81d4",
   "metadata": {},
   "outputs": [],
   "source": [
    "fig, axs = plt.subplots(nrows=2, ncols=4, figsize=(15, 12))\n",
    "body_counts = runway.groupby(['rented for', 'body type']).count().reset_index()\n",
    "for event, ax in zip(rented_for, axs.ravel()):\n",
    "    df = body_counts[body_counts['rented for'] == event].set_index('body type')['fit']\n",
    "    ax.bar(df.index, df.values)\n",
    "    ax.title.set_text(event + \" rental body type counts\")\n",
    "# all of the distributions look only very slightly different, so not worth including body type"
   ]
  },
  {
   "cell_type": "code",
   "execution_count": null,
   "id": "7e840de0",
   "metadata": {},
   "outputs": [],
   "source": [
    "for event in rented_for:\n",
    "    permutation_test(200, 'body type', event, 0.01)"
   ]
  },
  {
   "cell_type": "code",
   "execution_count": null,
   "id": "7465a02e",
   "metadata": {},
   "outputs": [],
   "source": [
    "fig, axs = plt.subplots(nrows=2, ncols=4, figsize=(15, 12))\n",
    "bust_counts = runway.groupby(['rented for', 'bust size']).count().reset_index()\n",
    "for event, ax in zip(rented_for, axs.ravel()):\n",
    "    df = bust_counts[bust_counts['rented for'] == event].set_index('bust size')['fit']\n",
    "    ax.bar(df.index, df.values)\n",
    "    ax.title.set_text(event + \" rental bust size counts\")"
   ]
  },
  {
   "cell_type": "code",
   "execution_count": null,
   "id": "a70ee575",
   "metadata": {},
   "outputs": [],
   "source": [
    "for event in rented_for:\n",
    "    permutation_test(200, 'bust size', event, 0.01)"
   ]
  },
  {
   "cell_type": "code",
   "execution_count": null,
   "id": "93faa519",
   "metadata": {},
   "outputs": [],
   "source": []
  }
 ],
 "metadata": {
  "kernelspec": {
   "display_name": "Python 3 (ipykernel)",
   "language": "python",
   "name": "python3"
  },
  "language_info": {
   "codemirror_mode": {
    "name": "ipython",
    "version": 3
   },
   "file_extension": ".py",
   "mimetype": "text/x-python",
   "name": "python",
   "nbconvert_exporter": "python",
   "pygments_lexer": "ipython3",
   "version": "3.10.8"
  }
 },
 "nbformat": 4,
 "nbformat_minor": 5
}
